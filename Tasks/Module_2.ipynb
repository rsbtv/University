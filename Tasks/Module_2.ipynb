{
 "nbformat": 4,
 "nbformat_minor": 0,
 "metadata": {
  "colab": {
   "provenance": []
  },
  "kernelspec": {
   "name": "python3",
   "display_name": "Python 3 (ipykernel)",
   "language": "python"
  },
  "language_info": {
   "name": "python"
  }
 },
 "cells": [
  {
   "cell_type": "markdown",
   "source": [
    "# **Практическая работа №2. Введение в Python. Циклы в Python: for и while. Функции в Python. Обработка исключений в Python (try, except, else, finally)**\n",
    "\n",
    "---\n",
    "\n",
    "\n"
   ],
   "metadata": {
    "id": "QliphIp1pbse"
   }
  },
  {
   "cell_type": "markdown",
   "source": "**Обучающийся:** *Сабитов Рафаэль Равилевич*",
   "metadata": {
    "id": "tTK8mNGDqA8Z"
   }
  },
  {
   "cell_type": "markdown",
   "source": [
    "\n",
    "\n",
    "---"
   ],
   "metadata": {
    "id": "wTJjWD61p_dZ"
   }
  },
  {
   "cell_type": "markdown",
   "source": [
    "## **Блок заданий №1. Циклы в Python: for и while**\n",
    "\n"
   ],
   "metadata": {
    "id": "-iXZOjjEoLsS"
   }
  },
  {
   "cell_type": "markdown",
   "source": [
    "### 1. **Сумма чисел от 1 до N**  \n",
    "   Напишите программу, которая запрашивает у пользователя число `N` и с помощью цикла `for` вычисляет сумму всех чисел от 1 до `N`."
   ],
   "metadata": {
    "id": "1Vy5lAnxoTrL"
   }
  },
  {
   "cell_type": "code",
   "source": [
    "n = int(input(\"Введите число N:\"))\n",
    "for i in range(n+1):\n",
    "    i += n\n",
    "print(i)"
   ],
   "metadata": {
    "id": "GNtKZwXSoSNg",
    "ExecuteTime": {
     "end_time": "2025-09-17T07:31:44.150738Z",
     "start_time": "2025-09-17T07:31:42.393649Z"
    }
   },
   "outputs": [
    {
     "name": "stdout",
     "output_type": "stream",
     "text": [
      "6\n"
     ]
    }
   ],
   "execution_count": 2
  },
  {
   "cell_type": "markdown",
   "source": [
    "\n",
    "### 2. **Вывод четных чисел**  \n",
    "   Используя цикл `while`, напишите программу, которая выводит все четные числа от 1 до 100."
   ],
   "metadata": {
    "id": "JgNf_8IToNQH"
   }
  },
  {
   "cell_type": "code",
   "source": [
    "n = 0\n",
    "while n <= 100:\n",
    "    if n % 2 == 0:\n",
    "        print(n)\n",
    "    n += 1"
   ],
   "metadata": {
    "id": "0Mgimf-9oWjm",
    "ExecuteTime": {
     "end_time": "2025-09-17T07:39:20.386254Z",
     "start_time": "2025-09-17T07:39:20.380396Z"
    }
   },
   "outputs": [
    {
     "name": "stdout",
     "output_type": "stream",
     "text": [
      "0\n",
      "2\n",
      "4\n",
      "6\n",
      "8\n",
      "10\n",
      "12\n",
      "14\n",
      "16\n",
      "18\n",
      "20\n",
      "22\n",
      "24\n",
      "26\n",
      "28\n",
      "30\n",
      "32\n",
      "34\n",
      "36\n",
      "38\n",
      "40\n",
      "42\n",
      "44\n",
      "46\n",
      "48\n",
      "50\n",
      "52\n",
      "54\n",
      "56\n",
      "58\n",
      "60\n",
      "62\n",
      "64\n",
      "66\n",
      "68\n",
      "70\n",
      "72\n",
      "74\n",
      "76\n",
      "78\n",
      "80\n",
      "82\n",
      "84\n",
      "86\n",
      "88\n",
      "90\n",
      "92\n",
      "94\n",
      "96\n",
      "98\n",
      "100\n"
     ]
    }
   ],
   "execution_count": 7
  },
  {
   "cell_type": "markdown",
   "source": [
    "### 3. **Таблица умножения**  \n",
    "   Напишите программу, которая с помощью вложенного цикла `for` выводит таблицу умножения (от 1 до 10)."
   ],
   "metadata": {
    "id": "WvLRnMt8oOpv"
   }
  },
  {
   "cell_type": "markdown",
   "source": [
    "**Пример выходных данных**\n",
    "```\n",
    "   1   2   3   4   5   6   7   8   9  10\n",
    "   2   4   6   8  10  12  14  16  18  20\n",
    "   3   6   9  12  15  18  21  24  27  30\n",
    "   4   8  12  16  20  24  28  32  36  40\n",
    "   5  10  15  20  25  30  35  40  45  50\n",
    "   6  12  18  24  30  36  42  48  54  60\n",
    "   7  14  21  28  35  42  49  56  63  70\n",
    "   8  16  24  32  40  48  56  64  72  80\n",
    "   9  18  27  36  45  54  63  72  81  90\n",
    "  10  20  30  40  50  60  70  80  90 100\n",
    "```\n"
   ],
   "metadata": {
    "id": "lMCzrvNAuiPt"
   }
  },
  {
   "cell_type": "code",
   "source": [
    "for i in range(1, 11):\n",
    "    for j in range(1, 11):\n",
    "        print(f'{i*j:^2}', end=' ') # с выравниванием по центру\n",
    "    print('\\n')"
   ],
   "metadata": {
    "id": "9bTYZUCqoW9l",
    "ExecuteTime": {
     "end_time": "2025-09-17T07:45:42.507680Z",
     "start_time": "2025-09-17T07:45:42.501758Z"
    }
   },
   "outputs": [
    {
     "name": "stdout",
     "output_type": "stream",
     "text": [
      "1  2  3  4  5  6  7  8  9  10 \n",
      "\n",
      "2  4  6  8  10 12 14 16 18 20 \n",
      "\n",
      "3  6  9  12 15 18 21 24 27 30 \n",
      "\n",
      "4  8  12 16 20 24 28 32 36 40 \n",
      "\n",
      "5  10 15 20 25 30 35 40 45 50 \n",
      "\n",
      "6  12 18 24 30 36 42 48 54 60 \n",
      "\n",
      "7  14 21 28 35 42 49 56 63 70 \n",
      "\n",
      "8  16 24 32 40 48 56 64 72 80 \n",
      "\n",
      "9  18 27 36 45 54 63 72 81 90 \n",
      "\n",
      "10 20 30 40 50 60 70 80 90 100 \n",
      "\n"
     ]
    }
   ],
   "execution_count": 21
  },
  {
   "cell_type": "markdown",
   "source": [
    "### 4. **Обратный отсчет**  \n",
    "   Напишите программу, которая с помощью цикла `while` выводит обратный отсчет от 10 до 1, а затем выводит сообщение \"Старт!\"."
   ],
   "metadata": {
    "id": "alRU4K6moPoX"
   }
  },
  {
   "cell_type": "code",
   "source": [
    "n = 10\n",
    "while n >= 1:\n",
    "    print(n)\n",
    "    n -= 1\n",
    "print('Старт!')"
   ],
   "metadata": {
    "id": "xlwpaJbkoXja",
    "ExecuteTime": {
     "end_time": "2025-09-17T07:47:16.625625Z",
     "start_time": "2025-09-17T07:47:16.620714Z"
    }
   },
   "outputs": [
    {
     "name": "stdout",
     "output_type": "stream",
     "text": [
      "10\n",
      "9\n",
      "8\n",
      "7\n",
      "6\n",
      "5\n",
      "4\n",
      "3\n",
      "2\n",
      "1\n",
      "Старт!\n"
     ]
    }
   ],
   "execution_count": 23
  },
  {
   "cell_type": "markdown",
   "source": [
    "\n",
    "\n",
    "### 5. **Поиск максимального числа**  \n",
    "   Напишите программу, которая запрашивает у пользователя 5 чисел и с помощью цикла `for` находит и выводит максимальное из них."
   ],
   "metadata": {
    "id": "ZOrByPyjoQrK"
   }
  },
  {
   "cell_type": "code",
   "source": [
    "myList = []\n",
    "\n",
    "for i in range(5):\n",
    "    myList.append(float(input(f'Введите {i+1}-ое число: ')))\n",
    "\n",
    "max = myList[0]\n",
    "for i in range(1, len(myList)):\n",
    "    if myList[i] > max:\n",
    "        max = myList[i]\n",
    "print(max)"
   ],
   "metadata": {
    "id": "nPiZGu03oX6V",
    "ExecuteTime": {
     "end_time": "2025-09-17T07:53:09.677588Z",
     "start_time": "2025-09-17T07:52:59.089450Z"
    }
   },
   "outputs": [
    {
     "name": "stdout",
     "output_type": "stream",
     "text": [
      "5.0\n"
     ]
    }
   ],
   "execution_count": 24
  },
  {
   "cell_type": "markdown",
   "source": [
    "## **Блок заданий №2. Функции в Python**\n"
   ],
   "metadata": {
    "id": "n3_ntES4op47"
   }
  },
  {
   "cell_type": "markdown",
   "source": [
    "При написании функций используйте аннотацию типов, а также добавляйте строку документации."
   ],
   "metadata": {
    "id": "e8JyxIPov56d"
   }
  },
  {
   "cell_type": "markdown",
   "source": [
    "### 1. **Функция для вычисления факториала**  \n",
    "   Напишите функцию `factorial(n)`, которая принимает число `n` и возвращает его факториал. Проверьте работу функции на нескольких примерах.\n",
    "\n",
    "\n",
    "\n",
    "\n",
    "\n",
    "\n",
    "\n"
   ],
   "metadata": {
    "id": "0hZbwgVmocJb"
   }
  },
  {
   "cell_type": "code",
   "source": [
    "def factorial(n: int) -> int:\n",
    "    '''\n",
    "    Функция вычисляет факториал числа\n",
    "    :param  n: int\n",
    "    :return : int\n",
    "    '''\n",
    "    result = 1\n",
    "    for i in range(1, n+1):\n",
    "        result *= i\n",
    "    return result\n",
    "\n",
    "print(factorial(5))\n",
    "print(factorial(10))\n",
    "print(factorial(7))\n",
    "help(factorial)"
   ],
   "metadata": {
    "id": "-HdkvvY9owo8",
    "ExecuteTime": {
     "end_time": "2025-09-17T08:14:16.046181Z",
     "start_time": "2025-09-17T08:14:16.041110Z"
    }
   },
   "outputs": [
    {
     "name": "stdout",
     "output_type": "stream",
     "text": [
      "120\n",
      "3628800\n",
      "5040\n",
      "Help on function factorial in module __main__:\n",
      "\n",
      "factorial(n: int) -> int\n",
      "    Функция вычисляет факториал числа\n",
      "    :param  n:      int\n",
      "    :return result: int\n",
      "\n"
     ]
    }
   ],
   "execution_count": 45
  },
  {
   "cell_type": "markdown",
   "source": [
    "### 2. **Функция для проверки четности**  \n",
    "   Напишите функцию `is_even(n)`, которая принимает число `n` и возвращает `True`, если число четное, и `False` в противном случае."
   ],
   "metadata": {
    "id": "xEQgEhEKovb6"
   }
  },
  {
   "cell_type": "code",
   "source": [
    "def is_even(n: int) -> bool:\n",
    "    '''\n",
    "    Фукнция возвращает True, если входное число чётное, и False в противном случае\n",
    "    :param n: int\n",
    "    :return: bool\n",
    "    '''\n",
    "    if n % 2 == 0:\n",
    "        return True\n",
    "    else:\n",
    "        return False"
   ],
   "metadata": {
    "id": "Qbgw2_QLow--"
   },
   "execution_count": null,
   "outputs": []
  },
  {
   "cell_type": "markdown",
   "source": [
    "### 3. **Функция с именованными аргументами**  \n",
    "   Напишите функцию `person_info(name, age, city=\"Москва\")`, которая принимает имя, возраст и город (по умолчанию \"Москва\"). Функция должна возвращать строку с информацией о человеке.  \n",
    "   \n",
    "   Пример:  \n",
    "```\n",
    "person_info(\"Иван\", 25) → \"Иван, 25 лет, из города Москва\"\n",
    "person_info(\"Мария\", 30, \"Санкт-Петербург\") → \"Мария, 30 лет, из города Санкт-Петербург\"\n",
    "```"
   ],
   "metadata": {
    "id": "-PWnY3LcouSk"
   }
  },
  {
   "cell_type": "code",
   "source": [
    "def person_info(name: str, age: int, city='Москва') -> str:\n",
    "    '''\n",
    "    Функция возвращает строку с информацией о человеке\n",
    "    :param name: str\n",
    "    :param age: int\n",
    "    :param city: str\n",
    "    :return: str\n",
    "    '''\n",
    "    return f'{name}, {age} лет, из города {city}'"
   ],
   "metadata": {
    "id": "8x-s4u8voxUR",
    "ExecuteTime": {
     "end_time": "2025-09-17T11:24:57.210989Z",
     "start_time": "2025-09-17T11:24:57.194165Z"
    }
   },
   "outputs": [],
   "execution_count": 46
  },
  {
   "cell_type": "markdown",
   "source": [
    "### 4. **Фильтрация четных чисел**  \n",
    "   Напишите функцию `filter_even(*args)`, которая принимает произвольное количество чисел и возвращает список только из четных чисел.  \n",
    "   Пример:  \n",
    "   ```\n",
    "   filter_even(1, 2, 3, 4, 5, 6) → [2, 4, 6]\n",
    "   filter_even(7, 9, 11) → []\n",
    "   ```"
   ],
   "metadata": {
    "id": "DxtROjY3osrS"
   }
  },
  {
   "cell_type": "code",
   "source": [
    "def filter_even(*args: int) -> list:\n",
    "    '''\n",
    "    Функция возвращает список из четных чисел\n",
    "    :param args: int\n",
    "    :return: list\n",
    "    '''\n",
    "    return [x for x in args if x % 2 == 0]"
   ],
   "metadata": {
    "id": "CMROKo1Iox9C",
    "ExecuteTime": {
     "end_time": "2025-09-17T11:49:50.270255Z",
     "start_time": "2025-09-17T11:49:50.262793Z"
    }
   },
   "outputs": [
    {
     "data": {
      "text/plain": [
       "[]"
      ]
     },
     "execution_count": 48,
     "metadata": {},
     "output_type": "execute_result"
    }
   ],
   "execution_count": 48
  },
  {
   "cell_type": "markdown",
   "source": [
    "### 5. **Функция для вычисления статистики**  \n",
    "   Напишите функцию `calculate_stats(*args, **kwargs)`, которая:  \n",
    "   - Из позиционных аргументов вычисляет минимальное, максимальное и среднее значение.  \n",
    "   - Из именованных аргументов возвращает словарь, где ключи — это аргументы, а значения — их типы данных.  \n",
    "   Пример:  \n",
    "   ```\n",
    "   calculate_stats(1, 2, 3, 4, name=\"Иван\", age=25) → ((1, 4, 2.5), {\"name\": \"str\", \"age\": \"int\"})\n",
    "   ```"
   ],
   "metadata": {
    "id": "TPLTxuASorpB"
   }
  },
  {
   "cell_type": "code",
   "source": [
    "max = None\n",
    "\n",
    "def max(*args) -> float:\n",
    "    '''\n",
    "    Функция возвращает максимальное значение списка\n",
    "    :param args: float\n",
    "    :return: float\n",
    "    '''\n",
    "    max = args[0]\n",
    "    for i in args:\n",
    "        if i > max:\n",
    "            max = i\n",
    "    return max\n",
    "\n",
    "def min(*args) -> float:\n",
    "    \"\"\"\n",
    "    Функция возвращает минимальное значение списка\n",
    "    :param args: float\n",
    "    :return: float\n",
    "    \"\"\"\n",
    "    min = args[0]\n",
    "    for i in args:\n",
    "        if i < min:\n",
    "            min = i\n",
    "    return min\n",
    "\n",
    "def avg(*args) -> float:\n",
    "    \"\"\"\n",
    "    Функция возвращает среднее значение списка\n",
    "    :param args:\n",
    "    :return: float\n",
    "    \"\"\"\n",
    "    return sum(args) / len(args)\n",
    "\n",
    "def calculate_stats(*args, **kwargs) -> tuple:\n",
    "    \"\"\"\n",
    "    Функция возвращает кортеж с минимальным, максимальным и средним значениями списка и словарь с иной информацией\n",
    "    :param args: float\n",
    "    :param kwargs: Any\n",
    "    :return: tuple\n",
    "    \"\"\"\n",
    "    my_dict = {}\n",
    "    for key in kwargs:\n",
    "        my_dict[key] = type(key)\n",
    "    return min(*args), max(*args), avg(*args), my_dict\n",
    "\n",
    "print(calculate_stats(1, 2, 3, 4, name=\"Иван\", age=25))"
   ],
   "metadata": {
    "id": "F-1JYEoMoykp",
    "ExecuteTime": {
     "end_time": "2025-09-17T12:26:49.535391Z",
     "start_time": "2025-09-17T12:26:49.526809Z"
    }
   },
   "outputs": [
    {
     "name": "stdout",
     "output_type": "stream",
     "text": [
      "(1, 4, 2.5, {'name': <class 'str'>, 'age': <class 'str'>})\n"
     ]
    }
   ],
   "execution_count": 60
  },
  {
   "cell_type": "markdown",
   "source": [
    "## **Блок заданий №3. Работа с текстовыми файлами в Python**\n"
   ],
   "metadata": {
    "id": "ZwSzb-PToe-5"
   }
  },
  {
   "cell_type": "markdown",
   "source": [
    "### 1. **Запись в файл**  \n",
    "   Напишите программу, которая запрашивает у пользователя строку и записывает её в файл `output.txt`."
   ],
   "metadata": {
    "id": "NO_aT90DpDwS"
   }
  },
  {
   "cell_type": "code",
   "source": [
    "my_str = input(\"Введите строку: \")\n",
    "with open('output.txt', 'w') as file:\n",
    "    file.write(my_str)"
   ],
   "metadata": {
    "id": "CNGiLXnkpUfa",
    "ExecuteTime": {
     "end_time": "2025-09-17T12:27:57.213578Z",
     "start_time": "2025-09-17T12:27:55.166157Z"
    }
   },
   "outputs": [],
   "execution_count": 61
  },
  {
   "cell_type": "markdown",
   "source": [
    "### 2. **Чтение из файла**  \n",
    "   Напишите программу, которая открывает файл `output.txt` и выводит его содержимое на экран."
   ],
   "metadata": {
    "id": "fy_uuck5pE8B"
   }
  },
  {
   "cell_type": "code",
   "source": [
    "with open('output.txt', 'r') as file:\n",
    "    print(file.read())"
   ],
   "metadata": {
    "id": "-9eB_a1rpUuA",
    "ExecuteTime": {
     "end_time": "2025-09-17T12:28:37.712772Z",
     "start_time": "2025-09-17T12:28:37.707919Z"
    }
   },
   "outputs": [
    {
     "name": "stdout",
     "output_type": "stream",
     "text": [
      "adw\n"
     ]
    }
   ],
   "execution_count": 62
  },
  {
   "cell_type": "markdown",
   "source": [
    "### 3. **Подсчет строк в файле**  \n",
    "   Напишите программу, которая открывает файл `output.txt` и подсчитывает количество строк в нём."
   ],
   "metadata": {
    "id": "yaF0YWwYpF7a"
   }
  },
  {
   "cell_type": "code",
   "source": [
    "with open('output.txt', 'r') as file:\n",
    "    lines_count = 0\n",
    "    while file.readline():\n",
    "        lines_count += 1\n",
    "    print(lines_count)"
   ],
   "metadata": {
    "id": "lZsdbitnpU8y",
    "ExecuteTime": {
     "end_time": "2025-09-17T12:30:41.812336Z",
     "start_time": "2025-09-17T12:30:41.806651Z"
    }
   },
   "outputs": [
    {
     "name": "stdout",
     "output_type": "stream",
     "text": [
      "6\n"
     ]
    }
   ],
   "execution_count": 66
  },
  {
   "cell_type": "markdown",
   "source": [
    "### 4. **Копирование содержимого файла**  \n",
    "   Напишите программу, которая копирует содержимое файла `input.txt` в файл `output.txt`."
   ],
   "metadata": {
    "id": "Ps4aMC32pG3q"
   }
  },
  {
   "cell_type": "code",
   "source": [
    "with open('input.txt', 'r') as file:\n",
    "    text = file.read()\n",
    "with open('output.txt', 'w') as file:\n",
    "    file.write(text)"
   ],
   "metadata": {
    "id": "x2LuA9ZwpVPz",
    "ExecuteTime": {
     "end_time": "2025-09-17T12:35:38.738331Z",
     "start_time": "2025-09-17T12:35:38.733308Z"
    }
   },
   "outputs": [],
   "execution_count": 67
  },
  {
   "cell_type": "markdown",
   "source": [
    "### 5. **Поиск слова в файле**  \n",
    "   Напишите программу, которая открывает файл `output.txt` и проверяет, содержится ли в нём слово, введённое пользователем."
   ],
   "metadata": {
    "id": "lWGe5Xj4oIn-"
   }
  },
  {
   "cell_type": "code",
   "source": [
    "word = 'txt'\n",
    "with open('output.txt', 'r') as file:\n",
    "    text = file.read()\n",
    "    if word in text:\n",
    "        print(f\"Слово {word} есть в {file.name}\")\n",
    "    else:\n",
    "        print(f\"Слова {word} нет в {file.name}\")"
   ],
   "metadata": {
    "id": "dqPsCHK2pVha",
    "ExecuteTime": {
     "end_time": "2025-09-17T12:38:00.701182Z",
     "start_time": "2025-09-17T12:38:00.695343Z"
    }
   },
   "outputs": [
    {
     "name": "stdout",
     "output_type": "stream",
     "text": [
      "Слова txt нет в output.txt\n"
     ]
    }
   ],
   "execution_count": 73
  },
  {
   "cell_type": "markdown",
   "source": [
    "## **Блок заданий №4. Обработка исключений в Python (try, except, else, finally)**\n"
   ],
   "metadata": {
    "id": "1kJHV5F1o2W-"
   }
  },
  {
   "cell_type": "markdown",
   "source": [
    "### 1. **Чтение файла с обработкой FileNotFoundError**  \n",
    "   Напишите программу, которая запрашивает у пользователя имя (или путь к) файла и пытается открыть его. Если файла не существует, перехватите FileNotFoundError и выведите сообщение «Файл не найден!».\n",
    "\n",
    "\n",
    "\n",
    "\n",
    "\n",
    "\n",
    "\n"
   ],
   "metadata": {
    "id": "EpLMWWsYog9c"
   }
  },
  {
   "cell_type": "code",
   "source": [
    "import os\n",
    "file_name = input('Введите имя файла: ')\n",
    "try:\n",
    "    with open(file_name, 'r') as file:\n",
    "        print(file.read())\n",
    "except FileNotFoundError:\n",
    "    print(\"Файл не найден!\")"
   ],
   "metadata": {
    "id": "pdSXLhuAo9wL",
    "ExecuteTime": {
     "end_time": "2025-09-17T12:49:34.997137Z",
     "start_time": "2025-09-17T12:49:30.606133Z"
    }
   },
   "outputs": [
    {
     "name": "stdout",
     "output_type": "stream",
     "text": [
      "Файл не найден!\n"
     ]
    }
   ],
   "execution_count": 78
  },
  {
   "cell_type": "markdown",
   "source": [
    "### 2. **Простейший калькулятор с обработкой нескольких исключений**  \n",
    "   Напишите программу, которая спрашивает у пользователя два числа и операцию (+, -, *, /). При попытках сложения или вычитания некорректных значений перехватывайте ValueError, а при делении на ноль — ZeroDivisionError, выводя соответствующие сообщения.\n"
   ],
   "metadata": {
    "id": "_1KEOBCho7wv"
   }
  },
  {
   "cell_type": "code",
   "source": [
    "num1 = input(\"Введите первое число: \")\n",
    "num2 = input(\"Введите второе число: \")\n",
    "operation = input('Введите операцию (+,-,*,/): ')\n",
    "try:\n",
    "    float(num1)\n",
    "    float(num2)\n",
    "    try:\n",
    "        match operation:\n",
    "            case '+':\n",
    "                print(num1 + num2)\n",
    "            case '-':\n",
    "                print(num1 - num2)\n",
    "            case '*':\n",
    "                print(num1 * num2)\n",
    "            case '/':\n",
    "                print(num1 / num2)\n",
    "            case _:\n",
    "                print('Неправильно введена операция!')\n",
    "    except ZeroDivisionError:\n",
    "        print('Ошибка деления на ноль!')\n",
    "except ValueError:\n",
    "    print('Некорректные значения!')"
   ],
   "metadata": {
    "id": "WPcrPlXWo-bz",
    "ExecuteTime": {
     "end_time": "2025-09-17T12:58:10.299016Z",
     "start_time": "2025-09-17T12:58:03.801686Z"
    }
   },
   "outputs": [
    {
     "name": "stdout",
     "output_type": "stream",
     "text": [
      "Некорректные значения!\n"
     ]
    }
   ],
   "execution_count": 85
  },
  {
   "cell_type": "markdown",
   "source": [
    "### 3. **Обработка некорректного индекса (IndexError)**  \n",
    "   Создайте список из нескольких элементов (например, [10, 20, 30]). Попросите пользователя ввести индекс элемента, который нужно вывести. Если пользователь введёт индекс, выходящий за границы списка, перехватите IndexError и сообщите об этом в консоли в свободной форме."
   ],
   "metadata": {
    "id": "I-0e0lcio6tK"
   }
  },
  {
   "cell_type": "code",
   "source": [
    "index = int(input('Введите индекс:'))\n",
    "myList = [1, 2, 3]\n",
    "try:\n",
    "    print(myList[index])\n",
    "except IndexError:\n",
    "    print(\"Неверный индекс!\")"
   ],
   "metadata": {
    "id": "8XSXyscqo-2U",
    "ExecuteTime": {
     "end_time": "2025-09-17T13:00:25.725198Z",
     "start_time": "2025-09-17T13:00:21.080031Z"
    }
   },
   "outputs": [
    {
     "name": "stdout",
     "output_type": "stream",
     "text": [
      "Неверный индекс!\n"
     ]
    }
   ],
   "execution_count": 88
  },
  {
   "cell_type": "markdown",
   "source": [
    "### 4. **Чтение и запись в файл с обработкой ошибок**  \n",
    "  Напишите программу, которая:  \n",
    "  - Запрашивает у пользователя имя файла.  \n",
    "  - Если файл существует, программа читает его содержимое и выводит на экран.  \n",
    "  - Если файл не существует, программа создает его и записывает в него строку `\"Файл был создан\"`.  \n",
    "  Используйте обработку исключений.\n",
    "\n",
    "  Пример:  \n",
    "    ```\n",
    "    Введите имя файла: data.txt  \n",
    "    Файл не найден. Создан новый файл.\n",
    "    ```"
   ],
   "metadata": {
    "id": "OeQvEFV9o5My"
   }
  },
  {
   "cell_type": "code",
   "source": [
    "file_name = input('Введите имя файла')\n",
    "try:\n",
    "    with open(file_name, 'r') as file:\n",
    "        print(file.read())\n",
    "except FileNotFoundError:\n",
    "    with open(file_name, 'w') as file:\n",
    "        file.write(\"Файл был создан.\")"
   ],
   "metadata": {
    "id": "ttNZVIbQo_LV",
    "ExecuteTime": {
     "end_time": "2025-09-17T13:04:41.701911Z",
     "start_time": "2025-09-17T13:04:35.669579Z"
    }
   },
   "outputs": [],
   "execution_count": 89
  },
  {
   "cell_type": "markdown",
   "source": [
    "\n",
    "### 5. **Обработка исключений в цикле**  \n",
    "  Напишите программу, которая запрашивает у пользователя числа и добавляет их в список.  \n",
    "  - Если пользователь вводит некорректные данные, программа должна выводить сообщение об ошибке и продолжать работу.  \n",
    "  - Для выхода из программы пользователь должен ввести `\"стоп\"`.\n",
    "\n",
    "  Пример:  \n",
    "    ```\n",
    "    Введите число: 10  \n",
    "    Введите число: текст  \n",
    "    Ошибка: это не число.  \n",
    "    Введите число: стоп  \n",
    "    Итоговый список: [10]\n",
    "    ```"
   ],
   "metadata": {
    "id": "-XGCqB2zo4G_"
   }
  },
  {
   "cell_type": "code",
   "source": [
    "myList = []\n",
    "while True:\n",
    "    userInput = input('Введите число или \"стоп\": ')\n",
    "    if userInput == 'стоп':\n",
    "        break\n",
    "    try:\n",
    "        myList.append(int(userInput))\n",
    "        continue\n",
    "    except ValueError:\n",
    "            print('Ошибка! Это не число!')\n",
    "\n",
    "print(\"Цикл завершен\")\n",
    "print(f\"Итоговый список {myList}\")"
   ],
   "metadata": {
    "id": "93pustD1o_hy",
    "ExecuteTime": {
     "end_time": "2025-09-17T13:25:02.193943Z",
     "start_time": "2025-09-17T13:24:55.644377Z"
    }
   },
   "outputs": [
    {
     "name": "stdout",
     "output_type": "stream",
     "text": [
      "Ошибка! Это не число!\n",
      "Цикл завершен\n",
      "Итоговый список [1, 2, 3]\n"
     ]
    }
   ],
   "execution_count": 102
  }
 ]
}
