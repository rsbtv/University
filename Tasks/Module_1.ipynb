{
 "nbformat": 4,
 "nbformat_minor": 0,
 "metadata": {
  "colab": {
   "provenance": []
  },
  "kernelspec": {
   "name": "python3",
   "display_name": "Python 3 (ipykernel)",
   "language": "python"
  },
  "language_info": {
   "name": "python"
  }
 },
 "cells": [
  {
   "cell_type": "markdown",
   "source": [
    "# **Практическая работа №1. Введение в Python. Функции ввода-вывода. Основные типы и структуры данных**\n",
    "\n",
    "---\n",
    "\n",
    "\n",
    "\n"
   ],
   "metadata": {
    "id": "wfO8faq6ZSPR"
   }
  },
  {
   "cell_type": "markdown",
   "source": "**Обучающийся:** *Сабитов Рафаэль Равилевич*\n",
   "metadata": {
    "id": "s1lvsaUa1kGY"
   }
  },
  {
   "cell_type": "markdown",
   "source": [
    "---"
   ],
   "metadata": {
    "id": "Lmxdci5V1iUz"
   }
  },
  {
   "cell_type": "markdown",
   "source": [
    "## **Блок заданий №1. Функция `print`**\n",
    "\n",
    "\n"
   ],
   "metadata": {
    "id": "APa2xjpZcAkk"
   }
  },
  {
   "cell_type": "markdown",
   "source": [
    "#### 1. Выведите на экран фразу **\"Добро пожаловать в мир Python!\"** с помощью функции `print`.\n"
   ],
   "metadata": {
    "id": "omMWRtIod-k-"
   }
  },
  {
   "cell_type": "code",
   "source": [
    "from token import STRING\n",
    "\n",
    "print('Добро пожаловать в мир Python!')"
   ],
   "metadata": {
    "id": "0R5R1jSwd_FT",
    "ExecuteTime": {
     "end_time": "2025-09-16T12:41:30.542956Z",
     "start_time": "2025-09-16T12:41:30.534023Z"
    }
   },
   "outputs": [
    {
     "name": "stdout",
     "output_type": "stream",
     "text": [
      "Добро пожаловать в мир Python!\n"
     ]
    }
   ],
   "execution_count": 1
  },
  {
   "cell_type": "markdown",
   "source": [
    "#### 2. Выведите на экран результат сложения чисел **15** и **27**.\n"
   ],
   "metadata": {
    "id": "A3ysPOjNd70e"
   }
  },
  {
   "cell_type": "code",
   "source": "print(15+27)",
   "metadata": {
    "id": "5wnr_TY1eCmM",
    "ExecuteTime": {
     "end_time": "2025-09-16T12:42:44.353205Z",
     "start_time": "2025-09-16T12:42:44.348329Z"
    }
   },
   "outputs": [
    {
     "name": "stdout",
     "output_type": "stream",
     "text": [
      "42\n"
     ]
    }
   ],
   "execution_count": 2
  },
  {
   "cell_type": "markdown",
   "source": [
    "#### 3. Сохраните свое имя в переменную и выведите его на экран с помощью `print`."
   ],
   "metadata": {
    "id": "RBkgp7Bjd9VL"
   }
  },
  {
   "cell_type": "code",
   "source": [
    "name = 'Рафаэль'\n",
    "print(name)"
   ],
   "metadata": {
    "id": "R7V70qsCeCxl",
    "ExecuteTime": {
     "end_time": "2025-09-16T12:42:46.397911Z",
     "start_time": "2025-09-16T12:42:46.393940Z"
    }
   },
   "outputs": [
    {
     "name": "stdout",
     "output_type": "stream",
     "text": [
      "Рафаэль\n"
     ]
    }
   ],
   "execution_count": 3
  },
  {
   "cell_type": "markdown",
   "source": [
    "#### 4. Выведите на экран несколько строк текста, каждая из которых отображается с новой строки."
   ],
   "metadata": {
    "id": "8q_iVvGed6VD"
   }
  },
  {
   "cell_type": "code",
   "source": [
    "print('В чужбине свято наблюдаю')\n",
    "print('Родной обычай старины')\n",
    "print('На волю птичку выпускаю')\n",
    "print('При светлом празднике весны')"
   ],
   "metadata": {
    "id": "5uFFGny2eC_7",
    "ExecuteTime": {
     "end_time": "2025-09-16T12:42:49.981303Z",
     "start_time": "2025-09-16T12:42:49.976332Z"
    }
   },
   "outputs": [
    {
     "name": "stdout",
     "output_type": "stream",
     "text": [
      "В чужбине свято наблюдаю\n",
      "Родной обычай старины\n",
      "На волю птичку выпускаю\n",
      "При светлом празднике весны\n"
     ]
    }
   ],
   "execution_count": 4
  },
  {
   "cell_type": "markdown",
   "source": [
    "#### 5. Выведите результат математического выражения с использованием f-строк, например:\n",
    "\n",
    "   ```python\n",
    "   7 + 7 = 14\n",
    "   ```\n"
   ],
   "metadata": {
    "id": "ZwTwWIbpeO8B"
   }
  },
  {
   "cell_type": "code",
   "source": [
    "num1 = 7\n",
    "num2 = 7\n",
    "print(f'{num1} + {num2} = {num1 + num2}')"
   ],
   "metadata": {
    "id": "f7cGPh5reXb8",
    "ExecuteTime": {
     "end_time": "2025-09-16T12:42:53.636026Z",
     "start_time": "2025-09-16T12:42:53.631678Z"
    }
   },
   "outputs": [
    {
     "name": "stdout",
     "output_type": "stream",
     "text": [
      "7 + 8 = 15\n"
     ]
    }
   ],
   "execution_count": 5
  },
  {
   "cell_type": "markdown",
   "source": [
    "## **Блок заданий №2. Функция `input`**\n",
    "\n"
   ],
   "metadata": {
    "id": "YBCWUDzEdQcl"
   }
  },
  {
   "cell_type": "markdown",
   "source": [
    "#### 1. Запросите у пользователя три разных числа и выведите их произведение.\n"
   ],
   "metadata": {
    "id": "1JG7ncRffYpN"
   }
  },
  {
   "cell_type": "code",
   "source": [
    "num1 = int(input('Введите первое число: '))\n",
    "num2 = int(input('Введите второе число: '))\n",
    "num3 = int(input('Введите третье число: '))\n",
    "print(f'{num1} + {num2} + {num3} = {num1 + num2 + num3}')"
   ],
   "metadata": {
    "id": "duI1IqytfZo3",
    "ExecuteTime": {
     "end_time": "2025-09-16T12:43:03.310613Z",
     "start_time": "2025-09-16T12:42:59.768690Z"
    }
   },
   "outputs": [
    {
     "name": "stdout",
     "output_type": "stream",
     "text": [
      "1 + 2 + 3 = 6\n"
     ]
    }
   ],
   "execution_count": 6
  },
  {
   "cell_type": "markdown",
   "source": [
    "#### 2. Попросите пользователя ввести свое ФИО, а затем выведите фамилию и инициалы.\n"
   ],
   "metadata": {
    "id": "CGLKsG9yfXZf"
   }
  },
  {
   "cell_type": "code",
   "source": [
    "fullName = input(\"Введите свое ФИО: \").title().split(' ')\n",
    "print(f'{fullName[0]} {fullName[1][0]}. {fullName[2][0]}.')"
   ],
   "metadata": {
    "id": "OhBXFkoffZ1l",
    "ExecuteTime": {
     "end_time": "2025-09-16T12:49:34.982996Z",
     "start_time": "2025-09-16T12:49:28.362602Z"
    }
   },
   "outputs": [
    {
     "name": "stdout",
     "output_type": "stream",
     "text": [
      "Сабитов Р. Р.\n"
     ]
    }
   ],
   "execution_count": 15
  },
  {
   "cell_type": "markdown",
   "source": [
    "#### 3. Получите от пользователя строку и символ, затем определите, сколько раз этот символ встречается в строке.\n"
   ],
   "metadata": {
    "id": "FJd73_DSfWgf"
   }
  },
  {
   "cell_type": "code",
   "source": [
    "string = input('Введите строку: ')\n",
    "symbol = input('Введите символ: ')\n",
    "print(f'Символ {symbol} встречается в строке \"{string}\" {string.count(symbol)} раз(а).')"
   ],
   "metadata": {
    "id": "VAzbeJANfaAP",
    "ExecuteTime": {
     "end_time": "2025-09-16T12:52:15.358567Z",
     "start_time": "2025-09-16T12:52:11.498939Z"
    }
   },
   "outputs": [
    {
     "name": "stdout",
     "output_type": "stream",
     "text": [
      "Символ a встречается в строке 'aaa' 3 раз.\n"
     ]
    }
   ],
   "execution_count": 17
  },
  {
   "cell_type": "markdown",
   "source": [
    "#### 4. Попросите пользователя ввести любимый цвет и выведите сообщение: **\"[Цвет] - красивый цвет!\"**.\n"
   ],
   "metadata": {
    "id": "ZY_cf1nbfVbo"
   }
  },
  {
   "cell_type": "code",
   "source": [
    "color = input(\"Введите свой любимый цвет: \").capitalize()\n",
    "print(f'{color} - красивый цвет!')"
   ],
   "metadata": {
    "id": "vVoFM74MfaMe",
    "ExecuteTime": {
     "end_time": "2025-09-16T12:53:59.093712Z",
     "start_time": "2025-09-16T12:53:54.354347Z"
    }
   },
   "outputs": [
    {
     "name": "stdout",
     "output_type": "stream",
     "text": [
      "Зеленый\n",
      "\n",
      " - красивый цвет!\n"
     ]
    }
   ],
   "execution_count": 18
  },
  {
   "cell_type": "markdown",
   "source": [
    "#### 5. Получите от пользователя строку и выведите ее длину."
   ],
   "metadata": {
    "id": "a6ekPIcOfUFK"
   }
  },
  {
   "cell_type": "code",
   "source": [
    "string = input(\"Введите строку:\")\n",
    "print(f'Длина строки (кол-во символов) в строке \"{string}\" - {len(string)}.')"
   ],
   "metadata": {
    "id": "psRmx_htfas2",
    "ExecuteTime": {
     "end_time": "2025-09-16T12:56:11.656715Z",
     "start_time": "2025-09-16T12:56:10.275468Z"
    }
   },
   "outputs": [
    {
     "name": "stdout",
     "output_type": "stream",
     "text": [
      "Длина строки (кол-во символов) в строке ww - 2.\n"
     ]
    }
   ],
   "execution_count": 20
  },
  {
   "cell_type": "markdown",
   "source": [
    "## **Блок заданий №3. Тип данных `int`**"
   ],
   "metadata": {
    "id": "gQ99P3lxgEvA"
   }
  },
  {
   "cell_type": "markdown",
   "source": [
    "#### Тип данных `int`\n",
    "\n",
    "\n",
    "\n",
    "\n",
    "\n"
   ],
   "metadata": {
    "id": "c-pHmy5NctvU"
   }
  },
  {
   "cell_type": "markdown",
   "source": [
    "1. Создайте переменную типа `int`, присвойте ей значение **42** и выведите на экран."
   ],
   "metadata": {
    "id": "1YAKZCMuglIZ"
   }
  },
  {
   "cell_type": "code",
   "source": [
    "num = 42\n",
    "print(num)"
   ],
   "metadata": {
    "id": "BpqJyc5GgmWz",
    "ExecuteTime": {
     "end_time": "2025-09-16T12:57:09.195264Z",
     "start_time": "2025-09-16T12:57:09.191197Z"
    }
   },
   "outputs": [
    {
     "name": "stdout",
     "output_type": "stream",
     "text": [
      "42\n"
     ]
    }
   ],
   "execution_count": 22
  },
  {
   "cell_type": "markdown",
   "source": [
    "2. Вычислите и выведите результат выражения **(17 * 3) + (10 / 2)** в виде целого числа."
   ],
   "metadata": {
    "id": "J3FS1RtDgkCO"
   }
  },
  {
   "cell_type": "code",
   "source": "print(int((17 * 3) + (10 / 2)))",
   "metadata": {
    "id": "YLIx8CCrgmkU",
    "ExecuteTime": {
     "end_time": "2025-09-16T12:57:40.778147Z",
     "start_time": "2025-09-16T12:57:40.774031Z"
    }
   },
   "outputs": [
    {
     "name": "stdout",
     "output_type": "stream",
     "text": [
      "56\n"
     ]
    }
   ],
   "execution_count": 23
  },
  {
   "cell_type": "markdown",
   "source": [
    "3. Преобразуйте строку **\"100\"** в целое число и добавьте к нему **25**."
   ],
   "metadata": {
    "id": "91x1Lb4tgier"
   }
  },
  {
   "cell_type": "code",
   "source": [
    "num = int('100')\n",
    "print(num + 25)"
   ],
   "metadata": {
    "id": "vmEIAy1CgmzH",
    "ExecuteTime": {
     "end_time": "2025-09-16T13:01:59.496940Z",
     "start_time": "2025-09-16T13:01:59.492744Z"
    }
   },
   "outputs": [
    {
     "name": "stdout",
     "output_type": "stream",
     "text": [
      "125\n"
     ]
    }
   ],
   "execution_count": 24
  },
  {
   "cell_type": "markdown",
   "source": [
    "4. Проверьте тип переменной, которая хранит значение **7**, используя функцию `type()`."
   ],
   "metadata": {
    "id": "Ua_0A7teghG0"
   }
  },
  {
   "cell_type": "code",
   "source": [
    "num = 7\n",
    "print(type(num))"
   ],
   "metadata": {
    "id": "56_CnKgGgnFi",
    "ExecuteTime": {
     "end_time": "2025-09-16T13:02:32.320697Z",
     "start_time": "2025-09-16T13:02:32.316441Z"
    }
   },
   "outputs": [
    {
     "name": "stdout",
     "output_type": "stream",
     "text": [
      "<class 'int'>\n"
     ]
    }
   ],
   "execution_count": 26
  },
  {
   "cell_type": "markdown",
   "source": [
    "5. Создайте две переменные целого типа, присвойте им значения и выведите их разницу."
   ],
   "metadata": {
    "id": "JxK0fU_Wgf8J"
   }
  },
  {
   "cell_type": "code",
   "source": [
    "num1 = 5\n",
    "num2 = 4\n",
    "print(num1 - num2)"
   ],
   "metadata": {
    "id": "GFsY9xSkgnfv",
    "ExecuteTime": {
     "end_time": "2025-09-16T13:03:05.101554Z",
     "start_time": "2025-09-16T13:03:05.097501Z"
    }
   },
   "outputs": [
    {
     "name": "stdout",
     "output_type": "stream",
     "text": [
      "1\n"
     ]
    }
   ],
   "execution_count": 27
  },
  {
   "cell_type": "markdown",
   "source": [
    "## **Блок заданий №4. Тип данных `float`**"
   ],
   "metadata": {
    "id": "G-DskIxcg598"
   }
  },
  {
   "cell_type": "markdown",
   "source": [
    "#### 1. Запросите у пользователя вещественное число и выведите его квадрат.\n",
    "\n",
    "\n",
    "\n"
   ],
   "metadata": {
    "id": "W5liVT_kcwnQ"
   }
  },
  {
   "cell_type": "code",
   "source": [
    "real = float(input(\"Введите вещественное число: \"))\n",
    "print(real**2)"
   ],
   "metadata": {
    "id": "S_i6OLwShHaH",
    "ExecuteTime": {
     "end_time": "2025-09-16T13:28:45.314066Z",
     "start_time": "2025-09-16T13:28:41.850317Z"
    }
   },
   "outputs": [
    {
     "name": "stdout",
     "output_type": "stream",
     "text": [
      "6.25\n"
     ]
    }
   ],
   "execution_count": 28
  },
  {
   "cell_type": "markdown",
   "source": [
    "#### 2. Запросите у пользователя вещественное число и округлите его до двух знаков после запятой."
   ],
   "metadata": {
    "id": "rcXGDx7FhGZ7"
   }
  },
  {
   "cell_type": "code",
   "source": [
    "real = float(input(\"Введите вещественное число: \"))\n",
    "print(round(real, 2))"
   ],
   "metadata": {
    "id": "W534mNlphHoW",
    "ExecuteTime": {
     "end_time": "2025-09-16T13:30:26.482665Z",
     "start_time": "2025-09-16T13:30:22.360171Z"
    }
   },
   "outputs": [
    {
     "name": "stdout",
     "output_type": "stream",
     "text": [
      "6.67\n"
     ]
    }
   ],
   "execution_count": 29
  },
  {
   "cell_type": "markdown",
   "source": [
    "#### 3. Сложите два числа с плавающей точкой: **2.5** и **4.7**, выведите результат."
   ],
   "metadata": {
    "id": "2HZIMG65hEwD"
   }
  },
  {
   "cell_type": "code",
   "source": [
    "real1 = 2.5\n",
    "real2 = 4.7\n",
    "print(f\"{real1} + {real2} = {real1 + real2}\")"
   ],
   "metadata": {
    "id": "tNhoDLUqhH-Q",
    "ExecuteTime": {
     "end_time": "2025-09-16T13:31:01.929534Z",
     "start_time": "2025-09-16T13:31:01.924814Z"
    }
   },
   "outputs": [
    {
     "name": "stdout",
     "output_type": "stream",
     "text": [
      "2.5 + 4.7 = 7.2\n"
     ]
    }
   ],
   "execution_count": 30
  },
  {
   "cell_type": "markdown",
   "source": [
    "#### 4. Преобразуйте градусы Цельсия, введенные пользователем, в Фаренгейты по формуле `F = C * 9/5 + 32`."
   ],
   "metadata": {
    "id": "lbX1tt0_hDlr"
   }
  },
  {
   "cell_type": "code",
   "source": [
    "celcius = float(input(\"Введите граудсы Цельсия: \"))\n",
    "print(f\"В Фаренгейтах: {(celcius * (9 / 5)) + 32}\")"
   ],
   "metadata": {
    "id": "tjYR7aRHhILq",
    "ExecuteTime": {
     "end_time": "2025-09-16T13:32:41.754802Z",
     "start_time": "2025-09-16T13:32:37.997249Z"
    }
   },
   "outputs": [
    {
     "name": "stdout",
     "output_type": "stream",
     "text": [
      "В Фаренгейтах: 89.6\n"
     ]
    }
   ],
   "execution_count": 31
  },
  {
   "cell_type": "markdown",
   "source": [
    "#### 5. Получите от пользователя длину и ширину прямоугольника, вычислите его площадь и периметр."
   ],
   "metadata": {
    "id": "RhghSwthhCPJ"
   }
  },
  {
   "cell_type": "code",
   "source": [
    "length = float(input(\"Введите длину прямоугольника: \"))\n",
    "width = float(input(\"Введите ширину прямоугольника: \"))\n",
    "print(f\"Площадь прямугольника: {length * width}\\nПериметр прямоугольника: {(length * 2) + (width * 2)}\")"
   ],
   "metadata": {
    "id": "GjKTKXmZhIaN",
    "ExecuteTime": {
     "end_time": "2025-09-16T13:34:40.018510Z",
     "start_time": "2025-09-16T13:34:35.893629Z"
    }
   },
   "outputs": [
    {
     "name": "stdout",
     "output_type": "stream",
     "text": [
      "Площадь прямугольника: 4.0\n",
      "Периметр прямоугольника: 8.0\n"
     ]
    }
   ],
   "execution_count": 32
  },
  {
   "cell_type": "markdown",
   "source": [
    "## **Блок заданий №5. Тип данных `str`**"
   ],
   "metadata": {
    "id": "CslTMbtXiWOP"
   }
  },
  {
   "cell_type": "markdown",
   "source": [
    "####1. Создайте строку **\"Python - самый популярный язык программирования\"** и выведите ее.\n"
   ],
   "metadata": {
    "id": "KUmla5cCieae"
   }
  },
  {
   "metadata": {
    "id": "Q7kHloVXlMVB"
   },
   "cell_type": "code",
   "outputs": [],
   "execution_count": null,
   "source": [
    "string = 'Python - самый популярный язык программирования'\n",
    "print(string)"
   ]
  },
  {
   "cell_type": "markdown",
   "source": [
    "####2. Выведите первый и последний символы строки **\"Привет, мир!\"**."
   ],
   "metadata": {
    "id": "ypQL09raiehN"
   }
  },
  {
   "cell_type": "code",
   "source": [
    "string = 'Привет, мир!'\n",
    "print(f\"{string[0]}, {string[-1]}\")"
   ],
   "metadata": {
    "id": "iVU99HAUlMpC",
    "ExecuteTime": {
     "end_time": "2025-09-16T13:36:20.326545Z",
     "start_time": "2025-09-16T13:36:20.321939Z"
    }
   },
   "outputs": [
    {
     "name": "stdout",
     "output_type": "stream",
     "text": [
      "П, !\n"
     ]
    }
   ],
   "execution_count": 33
  },
  {
   "cell_type": "markdown",
   "source": [
    "####3. Соедините три строки: **\"МИИГАиК - \"** , **\"Лучший \"**, **\"ВУЗ!\"** выведите результат."
   ],
   "metadata": {
    "id": "XxKbQhFkiw83"
   }
  },
  {
   "cell_type": "code",
   "source": "print(\"МИИГАиК - \" + \"Лучший \" + \"ВУЗ!\")",
   "metadata": {
    "id": "4amk_NcnlM3T",
    "ExecuteTime": {
     "end_time": "2025-09-16T13:41:44.115126Z",
     "start_time": "2025-09-16T13:41:44.110935Z"
    }
   },
   "outputs": [
    {
     "name": "stdout",
     "output_type": "stream",
     "text": [
      "МИИГАиК - Лучший ВУЗ!\n"
     ]
    }
   ],
   "execution_count": 35
  },
  {
   "cell_type": "markdown",
   "source": [
    "####4. Преобразуйте строку **\"12345\"** в число и выведите тип полученного значения.\n"
   ],
   "metadata": {
    "id": "MXOJX4g8ieoI"
   }
  },
  {
   "metadata": {
    "id": "t6Wvy7CZlNM2",
    "ExecuteTime": {
     "end_time": "2025-09-16T13:43:28.248147Z",
     "start_time": "2025-09-16T13:43:28.244176Z"
    }
   },
   "cell_type": "code",
   "source": [
    "num = int('12345')\n",
    "print(type(num))"
   ],
   "outputs": [
    {
     "name": "stdout",
     "output_type": "stream",
     "text": [
      "<class 'int'>\n"
     ]
    }
   ],
   "execution_count": 36
  },
  {
   "cell_type": "markdown",
   "source": [
    "####5. Сделайте все буквы строки **\"python is Fun\"** заглавными и выведите результат."
   ],
   "metadata": {
    "id": "hhBQ-8gMc0Li"
   }
  },
  {
   "cell_type": "code",
   "source": [
    "stringUppercase = 'python is Fun'.upper()\n",
    "print(stringUppercase)"
   ],
   "metadata": {
    "id": "n3KLT91zlNgY",
    "ExecuteTime": {
     "end_time": "2025-09-16T13:43:58.706178Z",
     "start_time": "2025-09-16T13:43:58.701769Z"
    }
   },
   "outputs": [
    {
     "name": "stdout",
     "output_type": "stream",
     "text": [
      "PYTHON IS FUN\n"
     ]
    }
   ],
   "execution_count": 37
  },
  {
   "cell_type": "markdown",
   "source": [
    "## **Блок заданий №6. Тип данных `list`**"
   ],
   "metadata": {
    "id": "ud5LmPUPlXND"
   }
  },
  {
   "cell_type": "markdown",
   "source": [
    "####1. Создайте список из чисел **[10, 20, 30, 40, 50]** и выведите его.\n"
   ],
   "metadata": {
    "id": "ZDkNefxXlXND"
   }
  },
  {
   "cell_type": "code",
   "source": [
    "myList = [10, 20, 30, 40, 50]\n",
    "print(myList)"
   ],
   "metadata": {
    "id": "G6fH9gBLlzI2",
    "ExecuteTime": {
     "end_time": "2025-09-16T13:48:50.875102Z",
     "start_time": "2025-09-16T13:48:50.870837Z"
    }
   },
   "outputs": [
    {
     "name": "stdout",
     "output_type": "stream",
     "text": [
      "[10, 20, 30, 40, 50]\n"
     ]
    }
   ],
   "execution_count": 57
  },
  {
   "cell_type": "markdown",
   "source": [
    "####2. Добавьте в список строку **\"новый элемент\"** и выведите обновленный список.\n"
   ],
   "metadata": {
    "id": "oDUtdPi-lo7n"
   }
  },
  {
   "cell_type": "code",
   "source": [
    "# myList = [10, 20, 30, 40, 50]\n",
    "myList.append('новый элемент')\n",
    "print(myList)"
   ],
   "metadata": {
    "id": "6QhNXffflzXT",
    "ExecuteTime": {
     "end_time": "2025-09-16T13:48:52.724225Z",
     "start_time": "2025-09-16T13:48:52.719726Z"
    }
   },
   "outputs": [
    {
     "name": "stdout",
     "output_type": "stream",
     "text": [
      "[10, 20, 30, 40, 50, 'новый элемент']\n"
     ]
    }
   ],
   "execution_count": 58
  },
  {
   "cell_type": "markdown",
   "source": [
    "####3. Из списка `['python', 'java', 'c++', 'ruby', 'perl']` выведите элементы с 2-го по 4-й включительно.\n"
   ],
   "metadata": {
    "id": "BZlOVdc4lo-O"
   }
  },
  {
   "cell_type": "code",
   "source": [
    "languages = ['python', 'java', 'c++', 'ruby', 'perl']\n",
    "print(languages[1:4])"
   ],
   "metadata": {
    "id": "lU12ExUElzjH",
    "ExecuteTime": {
     "end_time": "2025-09-16T13:48:54.544111Z",
     "start_time": "2025-09-16T13:48:54.540146Z"
    }
   },
   "outputs": [
    {
     "name": "stdout",
     "output_type": "stream",
     "text": [
      "['java', 'c++', 'ruby']\n"
     ]
    }
   ],
   "execution_count": 59
  },
  {
   "cell_type": "markdown",
   "source": [
    "####4. Создайте пустой список, добавьте в него три любых значения и выведите итоговый список.\n"
   ],
   "metadata": {
    "id": "0dZPxhU_lpCN"
   }
  },
  {
   "cell_type": "code",
   "source": [
    "myList = []\n",
    "myList.append(1)\n",
    "myList.append('a')\n",
    "myList.append(1.5)\n",
    "print(myList)"
   ],
   "metadata": {
    "id": "pRQ1BHKUlzud",
    "ExecuteTime": {
     "end_time": "2025-09-16T13:49:55.799362Z",
     "start_time": "2025-09-16T13:49:55.795156Z"
    }
   },
   "outputs": [
    {
     "name": "stdout",
     "output_type": "stream",
     "text": [
      "[1, 'a', 1.5]\n"
     ]
    }
   ],
   "execution_count": 62
  },
  {
   "cell_type": "markdown",
   "source": [
    "####5. Измените второй элемент списка **[1, 2, 3, 4, 5]** на число **200** и выведите список."
   ],
   "metadata": {
    "id": "o104mH_plpJl"
   }
  },
  {
   "cell_type": "code",
   "source": [
    "# Ваш код"
   ],
   "metadata": {
    "id": "ur_sqeAYlz-0"
   },
   "execution_count": null,
   "outputs": []
  },
  {
   "cell_type": "markdown",
   "source": [
    "## **Блок заданий №7. Тип данных `tuple`**"
   ],
   "metadata": {
    "id": "w7lcJPx9mhLe"
   }
  },
  {
   "cell_type": "markdown",
   "source": [
    "####1. Создайте кортеж из чисел **(1, 2, 3, 4, 5)** и выведите его на экран.\n"
   ],
   "metadata": {
    "id": "HqmF9aMWmeon"
   }
  },
  {
   "cell_type": "code",
   "source": [
    "# Ваш код"
   ],
   "metadata": {
    "id": "hGuk1KfHn7V7"
   },
   "execution_count": null,
   "outputs": []
  },
  {
   "cell_type": "markdown",
   "source": [
    "####2. Попробуйте изменить первый элемент кортежа и объясните в комментариях к программе, что произошло.\n"
   ],
   "metadata": {
    "id": "_QQf4g6gmerF"
   }
  },
  {
   "cell_type": "code",
   "source": [
    "# Ваш код"
   ],
   "metadata": {
    "id": "sZcbKwV_n7vA"
   },
   "execution_count": null,
   "outputs": []
  },
  {
   "cell_type": "markdown",
   "source": [
    "####3. Преобразуйте кортеж в строку и выведите результат.\n"
   ],
   "metadata": {
    "id": "6fMHK5femevO"
   }
  },
  {
   "cell_type": "code",
   "source": [
    "# Ваш код"
   ],
   "metadata": {
    "id": "AudeNNOin77h"
   },
   "execution_count": null,
   "outputs": []
  },
  {
   "cell_type": "markdown",
   "source": [
    "####4. Проверьте, содержится ли определенный элемент в кортеже, выведите соответствующее сообщение.\n"
   ],
   "metadata": {
    "id": "HOOFXQYtmeyG"
   }
  },
  {
   "cell_type": "code",
   "source": [
    "# Ваш код"
   ],
   "metadata": {
    "id": "PlPkzGCon8N2"
   },
   "execution_count": null,
   "outputs": []
  },
  {
   "cell_type": "markdown",
   "source": [
    "####5. Создайте кортеж, состоящий из нескольких одинаковых элементов, и найдите их количество с помощью метода `count()`.\n"
   ],
   "metadata": {
    "id": "HSi5wD3xme3I"
   }
  },
  {
   "cell_type": "code",
   "source": [
    "# Ваш код"
   ],
   "metadata": {
    "id": "G5eyJNkZn8aw"
   },
   "execution_count": null,
   "outputs": []
  },
  {
   "cell_type": "markdown",
   "source": [
    "## **Блок заданий №8. Тип данных `dict`**"
   ],
   "metadata": {
    "id": "v7nByOSzn6Gs"
   }
  },
  {
   "cell_type": "markdown",
   "source": [
    "####1. Создайте словарь с данными о себе: ключи **\"имя\"**, **\"возраст\"**, **\"город\"**; выведите его.\n"
   ],
   "metadata": {
    "id": "SdH7l87WoNxs"
   }
  },
  {
   "cell_type": "code",
   "source": [
    "# Ваш код"
   ],
   "metadata": {
    "id": "G_5mPREsoO__"
   },
   "execution_count": null,
   "outputs": []
  },
  {
   "cell_type": "markdown",
   "source": [
    "####2. Выведите значение по ключу **\"имя\"** из созданного словаря.\n"
   ],
   "metadata": {
    "id": "nsoYMyesoMxq"
   }
  },
  {
   "cell_type": "code",
   "source": [
    "# Ваш код"
   ],
   "metadata": {
    "id": "OL_waQuioPSG"
   },
   "execution_count": null,
   "outputs": []
  },
  {
   "cell_type": "markdown",
   "source": [
    "####3. Добавьте в словарь новый ключ **\"профессия\"** со значением и выведите словарь.\n"
   ],
   "metadata": {
    "id": "0T_miCFjoLhI"
   }
  },
  {
   "cell_type": "code",
   "source": [
    "# Ваш код"
   ],
   "metadata": {
    "id": "5LOqyJAHoPfn"
   },
   "execution_count": null,
   "outputs": []
  },
  {
   "cell_type": "markdown",
   "source": [
    "####4. Удалите из словаря ключ **\"город\"** и выведите обновленный словарь.\n"
   ],
   "metadata": {
    "id": "QPwxJK74oKZ3"
   }
  },
  {
   "cell_type": "code",
   "source": [
    "# Ваш код"
   ],
   "metadata": {
    "id": "3dPMpP1koPrR"
   },
   "execution_count": null,
   "outputs": []
  },
  {
   "cell_type": "markdown",
   "source": [
    "####5. Создайте пустой словарь и добавьте в него пару ключ-значение, введенных пользователем."
   ],
   "metadata": {
    "id": "7UDgxikGoJXz"
   }
  },
  {
   "cell_type": "code",
   "source": [
    "# Ваш код"
   ],
   "metadata": {
    "id": "AofDComvoP2d"
   },
   "execution_count": null,
   "outputs": []
  }
 ]
}
