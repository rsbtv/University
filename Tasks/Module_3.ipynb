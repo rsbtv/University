{
 "nbformat": 4,
 "nbformat_minor": 0,
 "metadata": {
  "colab": {
   "provenance": []
  },
  "kernelspec": {
   "name": "python3",
   "display_name": "Python 3 (ipykernel)",
   "language": "python"
  },
  "language_info": {
   "name": "python"
  }
 },
 "cells": [
  {
   "cell_type": "markdown",
   "source": [
    "# **Практическая работа №3. Введение в Python. Модули и пакеты**\n",
    "\n",
    "---\n",
    "\n",
    "\n"
   ],
   "metadata": {
    "id": "QliphIp1pbse"
   }
  },
  {
   "cell_type": "markdown",
   "source": "**Обучающийся:** *Сабитов Рафаэль Равилевич*",
   "metadata": {
    "id": "tTK8mNGDqA8Z"
   }
  },
  {
   "cell_type": "markdown",
   "source": [
    "\n",
    "\n",
    "---"
   ],
   "metadata": {
    "id": "wTJjWD61p_dZ"
   }
  },
  {
   "cell_type": "markdown",
   "source": [
    "## **Цель работы:**\n"
   ],
   "metadata": {
    "id": "8sycqVegUH85"
   }
  },
  {
   "cell_type": "markdown",
   "source": [
    "Создать Python-пакет, включающий функции для преобразования координат между декартовой и сферической системами, а также для работы с файлами. Реализовать консольный интерфейс для взаимодействия с функциями пакета."
   ],
   "metadata": {
    "id": "bdHCMBx4UJTb"
   }
  },
  {
   "cell_type": "markdown",
   "source": [
    "## **Задачи:**\n"
   ],
   "metadata": {
    "id": "aziouLamURhA"
   }
  },
  {
   "cell_type": "markdown",
   "source": [
    "1. Создать структуру пакета с необходимыми модулями.\n",
    "2. Реализовать функции для преобразования координат.\n",
    "3. Реализовать функции для работы с файлами.\n",
    "4. Создать файл `__main__.py` с консольным интерфейсом для работы с пакетом.\n",
    "5. Проверить работоспособность пакета на примере."
   ],
   "metadata": {
    "id": "ZyNB5M23US9G"
   }
  },
  {
   "cell_type": "markdown",
   "source": [
    "## **Теоретическая часть:**"
   ],
   "metadata": {
    "id": "AoEP4riFYmrE"
   }
  },
  {
   "cell_type": "markdown",
   "source": [
    "1. **Преобразование декартовых координат в сферические:**\n",
    "\n",
    "   *Формулы для преобразования:*\n",
    "\n",
    "   $\n",
    "   r = \\sqrt{x^2 + y^2 + z^2}\n",
    "   $\n",
    "\n",
    "   - Эта формула вычисляет радиус $r$ от начала координат до точки с координатами $(x, y, z)$ в декартовой системе. Это расстояние в пространстве.\n",
    "\n",
    "   $\n",
    "   \\theta = 2 \\cdot \\text{atan2}(y, x + \\sqrt{x^2 + y^2})\n",
    "   $\n",
    "\n",
    "   - Формула для $\\theta$ (азимутальный угол) использует функцию $\\text{atan2}$, которая возвращает угол в радианах между положительной осью $x$ и точкой $(x, y)$. Умножение на 2 и добавление $\\sqrt{x^2 + y^2}$ в знаменатель обеспечивает корректное определение угла в диапазоне от 0 до $2\\pi$.\n",
    "\n",
    "   $\n",
    "   \\phi = \\text{atan2}(\\sqrt{x^2 + y^2}, z)\n",
    "   $\n",
    "\n",
    "   - Формула для $\\phi$ (полярный угол) также использует $\\text{atan2}$, но здесь она вычисляет угол между положительной осью $z$ и вектором от начала координат до точки. Это значение также получается в радианах.\n",
    "\n",
    "   **Значения $\\theta$ и $\\phi$ получаются в радианах. Для перевода их в градусы необходимо умножить на $\\frac{180}{\\pi}$.**\n",
    "\n",
    "\n",
    "\n"
   ],
   "metadata": {
    "id": "pEAfpUD_UYNL"
   }
  },
  {
   "cell_type": "markdown",
   "source": [
    "2. **Преобразование сферических координат в декартовые:**\n",
    "\n",
    "  *Формулы для преобразования:*\n",
    "\n",
    "   $\n",
    "   x = r \\cdot \\sin(\\phi) \\cdot \\cos(\\theta)\n",
    "   $\n",
    "   \n",
    "   - Эта формула вычисляет координату $x$ в декартовой системе, используя радиус $r$, полярный угол $\\phi$ и азимутальный угол $\\theta$.\n",
    "\n",
    "   $\n",
    "   y = r \\cdot \\sin(\\phi) \\cdot \\sin(\\theta)\n",
    "   $\n",
    "\n",
    "   - Аналогично, эта формула вычисляет координату $y$ в декартовой системе.\n",
    "\n",
    "   $\n",
    "   z = r \\cdot \\cos(\\phi)\n",
    "   $\n",
    "   \n",
    "   - Эта формула вычисляет координату $z$ в декартовой системе, используя радиус $r$ и полярный угол $\\phi$.\n",
    "\n",
    "   **Значения $\\theta$ и $\\phi$ должны быть заданы в радианах. Если они заданы в градусах, их необходимо предварительно перевести в радианы, умножив на $\\frac{\\pi}{180}$.**"
   ],
   "metadata": {
    "id": "PNgijVwBZQxC"
   }
  },
  {
   "cell_type": "markdown",
   "source": [
    "3. **Преобразование между градусами и радианами:**\n",
    "\n",
    "   $\n",
    "   \\text{градусы} \\rightarrow \\text{радианы}: \\text{degrees} \\cdot \\frac{\\pi}{180}\n",
    "   $\n",
    "   - Эта формула используется для перевода углов из градусов в радианы.\n",
    "\n",
    "   $\n",
    "   \\text{радианы} \\rightarrow \\text{градусы}: \\text{radians} \\cdot \\frac{180}{\\pi}\n",
    "   $\n",
    "   - Эта формула используется для перевода углов из радиан в градусы."
   ],
   "metadata": {
    "id": "km-P3kvIZOo9"
   }
  },
  {
   "cell_type": "code",
   "source": [
    "import math\n",
    "\n",
    "# Пример расчета синуса и косинуса от угла в градусах\n",
    "angle_degrees = 45  # Угол в градусах\n",
    "\n",
    "# Преобразование градусов в радианы\n",
    "angle_radians = math.radians(angle_degrees)\n",
    "\n",
    "# Расчет синуса и косинуса\n",
    "sin_value = math.sin(angle_radians)\n",
    "cos_value = math.cos(angle_radians)\n",
    "\n",
    "print(f\"Синус {angle_degrees} градусов: {sin_value}\")\n",
    "print(f\"Косинус {angle_degrees} градусов: {cos_value}\")"
   ],
   "metadata": {
    "colab": {
     "base_uri": "https://localhost:8080/"
    },
    "id": "UbLbordBWolF",
    "outputId": "375e5e96-02fc-42e5-cd01-4534c65429b8"
   },
   "execution_count": null,
   "outputs": [
    {
     "output_type": "stream",
     "name": "stdout",
     "text": [
      "Синус 45 градусов: 0.7071067811865475\n",
      "Косинус 45 градусов: 0.7071067811865476\n"
     ]
    }
   ]
  },
  {
   "cell_type": "code",
   "source": [
    "# Пример расчета atan2 и преобразования результата в градусы\n",
    "y = 1\n",
    "x = 5\n",
    "\n",
    "# Расчет atan2 в радианах\n",
    "atan2_radians = math.atan2(y, x)\n",
    "\n",
    "# Преобразование результата atan2 в градусы\n",
    "atan2_degrees = math.degrees(atan2_radians)\n",
    "\n",
    "print(f\"atan2({y}, {x}) в радианах: {atan2_radians}\")\n",
    "print(f\"atan2({y}, {x}) в градусах: {atan2_degrees}\")"
   ],
   "metadata": {
    "colab": {
     "base_uri": "https://localhost:8080/"
    },
    "id": "r6gfmCU2XN-j",
    "outputId": "9561f326-c331-48f4-f89d-7a3316521615"
   },
   "execution_count": null,
   "outputs": [
    {
     "output_type": "stream",
     "name": "stdout",
     "text": [
      "atan2(1, 5) в радианах: 0.19739555984988075\n",
      "atan2(1, 5) в градусах: 11.309932474020213\n"
     ]
    }
   ]
  },
  {
   "cell_type": "markdown",
   "source": [
    "\n",
    "\n",
    "## **Практическая часть:**\n",
    "\n"
   ],
   "metadata": {
    "id": "xjcf5dryT4q6"
   }
  },
  {
   "cell_type": "markdown",
   "source": [
    "1. **Создание структуры пакета:**\n",
    "   Создайте директорию `geo_transform` и в ней следующие файлы:\n",
    "   - `__init__.py`\n",
    "   - `transformations.py`\n",
    "   - `utils.py`\n",
    "   - `file_operations.py`\n",
    "   - `__main__.py`\n",
    "\n",
    "2. **Реализация функций преобразования координат:**\n",
    "   В файле `transformations.py` реализуйте функции `cartesian_to_spherical` и `spherical_to_cartesian` с использованием приведенных выше формул.\n",
    "\n",
    "3. **Реализация вспомогательных функций:**\n",
    "   В файле `utils.py` реализуйте функции `deg_to_rad` и `rad_to_deg`.\n",
    "\n",
    "4. **Реализация функций для работы с файлами:**\n",
    "   В файле `file_operations.py` реализуйте функции `write_results_to_file` и `read_coordinates_from_file` для записи и чтения координат из текстовых файлов.\n",
    "\n",
    "5. **Создание `__init__.py`:**\n",
    "   В файле `__init__.py` добавьте импорты всех необходимых функций из других модулей.\n",
    "\n",
    "6. **Реализация консольного интерфейса в `__main__.py`:**\n",
    "   В файле `__main__.py` реализуйте консольный интерфейс для работы с функциями пакета.\n",
    "\n",
    "7. **Проверка работоспособности пакета:**\n",
    "   Запустите пакет как отдельную программу. Проверьте все функции через консольный интерфейс. Импортируйте пакет в стороннем модуле, убедитесь, что все функции работают корректно."
   ],
   "metadata": {
    "id": "3DlYz5qrVG-C"
   }
  },
  {
   "cell_type": "markdown",
   "source": [
    "\n",
    "\n",
    "## **Демонстрация результата:**\n",
    "\n"
   ],
   "metadata": {
    "id": "iIyfPBIGbPdQ"
   }
  },
  {
   "cell_type": "markdown",
   "source": [
    "Вставьте код каждого из ваших модулей в соответствующие ячейки ниже.\n",
    "\n",
    "**Строку, начинающуюся на %%writefile... стирать запрещено**"
   ],
   "metadata": {
    "id": "1ARiSwg3bKML"
   }
  },
  {
   "cell_type": "markdown",
   "source": [
    "### **Содержимое модуля \\_\\_init__.py:**"
   ],
   "metadata": {
    "id": "kcPKYl5abzNp"
   }
  },
  {
   "cell_type": "code",
   "source": [
    "!mkdir geo_transform"
   ],
   "metadata": {
    "id": "T5t41w-tbD5I",
    "ExecuteTime": {
     "end_time": "2025-09-18T06:52:23.601572Z",
     "start_time": "2025-09-18T06:52:23.534204Z"
    }
   },
   "outputs": [],
   "execution_count": 1
  },
  {
   "cell_type": "code",
   "source": [
    "%%writefile geo_transform/__init__.py\n",
    "\n",
    "from .transformations import *\n",
    "from .file_operations import *\n",
    "from .utils import *"
   ],
   "metadata": {
    "id": "p_UraYekagmv",
    "ExecuteTime": {
     "end_time": "2025-09-18T07:53:10.521273Z",
     "start_time": "2025-09-18T07:53:10.514404Z"
    }
   },
   "outputs": [
    {
     "name": "stdout",
     "output_type": "stream",
     "text": [
      "Overwriting geo_transform/__init__.py\n"
     ]
    }
   ],
   "execution_count": 8
  },
  {
   "cell_type": "markdown",
   "source": [
    "### **Содержимое модуля transformations.py:**"
   ],
   "metadata": {
    "id": "GfgJWdI7cHoW"
   }
  },
  {
   "cell_type": "code",
   "source": [
    "%%writefile geo_transform/transformations.py\n",
    "from math import sqrt, atan2, sin, cos\n",
    "\n",
    "def cartesian_to_spherical(x: float, y: float, z: float) -> tuple[float, float, float]:\n",
    "    \"\"\"\n",
    "    Функция преобразовывает декартовы координаты в сферические\n",
    "    :param x: float\n",
    "    :param y: float\n",
    "    :param z: float\n",
    "    :return: tuple[float, float, float]\n",
    "    \"\"\"\n",
    "    radius = sqrt(x**2 + y**2 + z**2)\n",
    "    azimuths_angle = 2 * atan2(x,y + sqrt(x**2 + y**2))\n",
    "    polar_angle = atan2(sqrt(x**2 + y**2), z)\n",
    "    return radius, azimuths_angle, polar_angle\n",
    "\n",
    "def spherical_to_cartesian(radius: float, azimuths_angle: float, polar_angle: float) -> tuple[float, float, float]:\n",
    "    \"\"\"\n",
    "    Функция преобразовывает сферические координаты в декартовы\n",
    "    :param radius: float\n",
    "    :param azimuths_angle: float\n",
    "    :param polar_angle: float\n",
    "    :return: tuple[float, float, float]\n",
    "    \"\"\"\n",
    "    x = radius * sin(polar_angle) * cos(azimuths_angle)\n",
    "    y = radius * sin(polar_angle) * sin(azimuths_angle)\n",
    "    z = radius * cos(polar_angle)\n",
    "    return x, y, z"
   ],
   "metadata": {
    "id": "PEwM6HmucHoX",
    "ExecuteTime": {
     "end_time": "2025-09-18T07:36:59.341458Z",
     "start_time": "2025-09-18T07:36:59.332913Z"
    }
   },
   "outputs": [
    {
     "name": "stdout",
     "output_type": "stream",
     "text": [
      "Overwriting geo_transform/transformations.py\n"
     ]
    }
   ],
   "execution_count": 5
  },
  {
   "cell_type": "markdown",
   "source": [
    "### **Содержимое модуля utils.py:**"
   ],
   "metadata": {
    "id": "tw_9FXFkcIBq"
   }
  },
  {
   "cell_type": "code",
   "source": [
    "%%writefile geo_transform/utils.py\n",
    "from math import pi\n",
    "\n",
    "def deg_to_rad(degrees: float) -> float:\n",
    "    \"\"\"\n",
    "    Функция преобразовывает угол в градусах в угол в радианах\n",
    "    :param degrees:\n",
    "    :return: float\n",
    "    \"\"\"\n",
    "    return degrees * pi / 180\n",
    "\n",
    "def rad_to_deg(radians: float) -> float:\n",
    "    \"\"\"\n",
    "    Функция преобразовывает угол в радианах в угол в градусах\n",
    "    :param radians:\n",
    "    :return: float\n",
    "    \"\"\"\n",
    "    return radians * 180 / pi"
   ],
   "metadata": {
    "id": "y96uQcmTcIBr",
    "ExecuteTime": {
     "end_time": "2025-09-18T07:37:03.061567Z",
     "start_time": "2025-09-18T07:37:03.052713Z"
    }
   },
   "outputs": [
    {
     "name": "stdout",
     "output_type": "stream",
     "text": [
      "Writing geo_transform/utils.py\n"
     ]
    }
   ],
   "execution_count": 6
  },
  {
   "cell_type": "markdown",
   "source": [
    "### **Содержимое модуля file_operations.py:**"
   ],
   "metadata": {
    "id": "kmYf0AOwcIOg"
   }
  },
  {
   "cell_type": "code",
   "source": [
    "%%writefile geo_transform/file_operations.py\n",
    "\n",
    "def write_results_to_file(*args: tuple[float, float, float]) -> None:\n",
    "    \"\"\"\n",
    "    Функция записывает координаты в файл\n",
    "    :param args: tuple\n",
    "    :return: None\n",
    "    \"\"\"\n",
    "    with open('file.txt', 'w') as file:\n",
    "        file.writelines(args)\n",
    "\n",
    "def read_coordinates_from_file() -> tuple[float, float, float]:\n",
    "    \"\"\"\n",
    "    Функция считывает координаты из файла\n",
    "    :return: tuple[float, float, float]\n",
    "    \"\"\"\n",
    "    with open('file.txt', 'r') as file:\n",
    "        file_lines = file.readlines()\n",
    "        return file_lines"
   ],
   "metadata": {
    "id": "HkmXurkjcIOg",
    "ExecuteTime": {
     "end_time": "2025-09-18T07:37:05.768366Z",
     "start_time": "2025-09-18T07:37:05.762314Z"
    }
   },
   "outputs": [
    {
     "name": "stdout",
     "output_type": "stream",
     "text": [
      "Writing geo_transform/file_operations.py\n"
     ]
    }
   ],
   "execution_count": 7
  },
  {
   "cell_type": "markdown",
   "source": [
    "### **Содержимое модуля \\_\\_main__.py:**"
   ],
   "metadata": {
    "id": "qUQb0g_RcaUd"
   }
  },
  {
   "cell_type": "code",
   "source": [
    "%%writefile geo_transform/__main__.py\n",
    "\n",
    "if __name__ == '__main__':\n",
    "    print('Модуль запущен напрямую')"
   ],
   "metadata": {
    "id": "qzNV09hfcaUe",
    "ExecuteTime": {
     "end_time": "2025-09-18T11:59:51.800298Z",
     "start_time": "2025-09-18T11:59:51.792829Z"
    }
   },
   "outputs": [
    {
     "name": "stdout",
     "output_type": "stream",
     "text": [
      "Overwriting geo_transform/__main__.py\n"
     ]
    }
   ],
   "execution_count": 19
  },
  {
   "cell_type": "markdown",
   "source": [
    "### **Содержимое модуля main.py (с импортом пакета и тестированием функций из него):**"
   ],
   "metadata": {
    "id": "vGqPXMcdcpxE"
   }
  },
  {
   "cell_type": "code",
   "source": [
    "from geo_transform import cartesian_to_spherical, spherical_to_cartesian, write_results_to_file, read_coordinates_from_file\n",
    "\n",
    "while True:\n",
    "    answer = input('Какую команду хотите выполнить?\\n1.Выход\\n2.Перевести декартовы координаты в сферические\\n3.Перевести сферические координаты в декартовы\\n4.Перевести градусы в радианы\\n5.Перевести радианы в градусы\\n6.Записать значения в файл\\n7.Прочитать значения из файла')\n",
    "    match answer:\n",
    "        case \"1\":\n",
    "            break\n",
    "        case \"2\":\n",
    "            try:\n",
    "                x = float(input('Введите x: '))\n",
    "                y = float(input('Введите y: '))\n",
    "                z = float(input('Введите z: '))\n",
    "                print(cartesian_to_spherical(x,y,z))\n",
    "            except ValueError:\n",
    "                print('Ошибка: введено неверное значение!')\n",
    "                continue\n",
    "        case '3':\n",
    "            try:\n",
    "                radius        = float(input('Введите радиус: '))\n",
    "                azimuth_angle = float(input('Введите азимутальный угол (в радианах): '))\n",
    "                polar_angle   = float(input('Введите полярный угол (в радианах): '))\n",
    "                print(spherical_to_cartesian(radius, azimuth_angle, polar_angle))\n",
    "            except ValueError:\n",
    "                print('Ошибка: введено неверное значение!')\n",
    "                continue\n",
    "        case '4':\n",
    "            try:\n",
    "                degrees = float(input('Введите значение в градусах:'))\n",
    "                print(deg_to_rad(degrees))\n",
    "            except ValueError:\n",
    "                print('Ошибка: введено неверное значение!')\n",
    "                continue\n",
    "        case '5':\n",
    "            try:\n",
    "                radians = float(input('Введите значение в радианах:'))\n",
    "                print(rad_to_deg(radians))\n",
    "            except ValueError:\n",
    "                print('Ошибка: введено неверное значение!')\n",
    "                continue\n",
    "        case '6':\n",
    "            try:\n",
    "                coord1 = float(input('Введите координату 1: '))\n",
    "                coord2 = float(input('Введите координату 2: '))\n",
    "                coord3 = float(input('Введите координату 3: '))\n",
    "                write_results_to_file(coord1, coord2, coord3)\n",
    "                print('Координаты успешно записаны!')\n",
    "            except ValueError:\n",
    "                print('Ошибка: введено неверное значение!')\n",
    "                continue\n",
    "        case 7:\n",
    "            print(read_coordinates_from_file())\n",
    "        case _:\n",
    "            continue"
   ],
   "metadata": {
    "id": "4b1mRDL6cpxE",
    "ExecuteTime": {
     "end_time": "2025-09-18T12:59:34.183715Z",
     "start_time": "2025-09-18T12:59:28.796116Z"
    }
   },
   "outputs": [
    {
     "ename": "TypeError",
     "evalue": "write() argument must be str, not float",
     "output_type": "error",
     "traceback": [
      "\u001B[31m---------------------------------------------------------------------------\u001B[39m",
      "\u001B[31mTypeError\u001B[39m                                 Traceback (most recent call last)",
      "\u001B[36mCell\u001B[39m\u001B[36m \u001B[39m\u001B[32mIn[31]\u001B[39m\u001B[32m, line 28\u001B[39m\n\u001B[32m     26\u001B[39m     coord2 = \u001B[38;5;28mfloat\u001B[39m(\u001B[38;5;28minput\u001B[39m(\u001B[33m'\u001B[39m\u001B[33mВведите координату 2: \u001B[39m\u001B[33m'\u001B[39m))\n\u001B[32m     27\u001B[39m     coord3 = \u001B[38;5;28mfloat\u001B[39m(\u001B[38;5;28minput\u001B[39m(\u001B[33m'\u001B[39m\u001B[33mВведите координату 3: \u001B[39m\u001B[33m'\u001B[39m))\n\u001B[32m---> \u001B[39m\u001B[32m28\u001B[39m     \u001B[43mwrite_results_to_file\u001B[49m\u001B[43m(\u001B[49m\u001B[43mcoord1\u001B[49m\u001B[43m,\u001B[49m\u001B[43m \u001B[49m\u001B[43mcoord2\u001B[49m\u001B[43m,\u001B[49m\u001B[43m \u001B[49m\u001B[43mcoord3\u001B[49m\u001B[43m)\u001B[49m\n\u001B[32m     29\u001B[39m     \u001B[38;5;28mprint\u001B[39m(\u001B[33m'\u001B[39m\u001B[33mКоординаты успешно записаны!\u001B[39m\u001B[33m'\u001B[39m)\n\u001B[32m     30\u001B[39m \u001B[38;5;28;01mcase\u001B[39;00m \u001B[32m7\u001B[39m:\n",
      "\u001B[36mFile \u001B[39m\u001B[32m~\\Desktop\\GitProjects\\University\\Tasks\\geo_transform\\file_operations.py:9\u001B[39m, in \u001B[36mwrite_results_to_file\u001B[39m\u001B[34m(*args)\u001B[39m\n\u001B[32m      3\u001B[39m \u001B[38;5;250m\u001B[39m\u001B[33;03m\"\"\"\u001B[39;00m\n\u001B[32m      4\u001B[39m \u001B[33;03mФункция записывает координаты в файл\u001B[39;00m\n\u001B[32m      5\u001B[39m \u001B[33;03m:param args: tuple\u001B[39;00m\n\u001B[32m      6\u001B[39m \u001B[33;03m:return: None\u001B[39;00m\n\u001B[32m      7\u001B[39m \u001B[33;03m\"\"\"\u001B[39;00m\n\u001B[32m      8\u001B[39m \u001B[38;5;28;01mwith\u001B[39;00m \u001B[38;5;28mopen\u001B[39m(\u001B[33m'\u001B[39m\u001B[33mfile.txt\u001B[39m\u001B[33m'\u001B[39m, \u001B[33m'\u001B[39m\u001B[33mw\u001B[39m\u001B[33m'\u001B[39m) \u001B[38;5;28;01mas\u001B[39;00m file:\n\u001B[32m----> \u001B[39m\u001B[32m9\u001B[39m     \u001B[43mfile\u001B[49m\u001B[43m.\u001B[49m\u001B[43mwritelines\u001B[49m\u001B[43m(\u001B[49m\u001B[43margs\u001B[49m\u001B[43m)\u001B[49m\n",
      "\u001B[31mTypeError\u001B[39m: write() argument must be str, not float"
     ]
    }
   ],
   "execution_count": 31
  }
 ]
}
